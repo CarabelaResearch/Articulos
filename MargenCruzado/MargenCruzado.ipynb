{
 "cells": [
  {
   "cell_type": "markdown",
   "metadata": {},
   "source": [
    "## Bienvenidos al Notebook del trade de los márgenes cruzados\n",
    "\n",
    "En este notebook vamos a calcular el funding rate para el perpetuo de Bitcoin entre Binance y Bybit. Para ello hemos de descargar los datos históricos de los funding rat para ambos exchanges. Nosotros hemos descargado los datos y los hemos puesto en el repositorio para que no tengáis que descargarlos. Os dejamos los enlaces para que podáis descargar otros intervalos temporales u otras criptomendas: [datos históricos de funding para Binance](https://www.binance.com/en/futures/funding-history/perpetual/funding-fee-history) y [datos históricos de funding para Bybit](https://www.bybit.com/data/basic/linear/funding-history?symbol=BTCUSDT).\n",
    "\n",
    "<span style=\"color:blue\">Importante: instalar las librerías para que el código funcione.</span> Simplemente ejecutad el siguiente comando desde una terminal en la misma ruta del código: python -m pip install -r requirements.txt."
   ]
  },
  {
   "cell_type": "code",
   "execution_count": 1,
   "metadata": {},
   "outputs": [],
   "source": [
    "# Importamos las liberías para trabajar con datos y gráficos\n",
    "from datetime import datetime\n",
    "import matplotlib.pyplot as plt\n",
    "import matplotlib.dates\n",
    "from datetime import datetime, timedelta\n",
    "import pandas as pd\n",
    "import numpy as np\n",
    "\n",
    "# https://stackoverflow.com/questions/47404653/pandas-0-21-0-timestamp-compatibility-issue-with-matplotlib \n",
    "from pandas.plotting import register_matplotlib_converters\n",
    "register_matplotlib_converters()"
   ]
  },
  {
   "cell_type": "markdown",
   "metadata": {},
   "source": [
    "Lo primero de todo es leer ambas series de datos como un DataFrame de pandas"
   ]
  },
  {
   "cell_type": "code",
   "execution_count": 2,
   "metadata": {},
   "outputs": [
    {
     "data": {
      "text/html": [
       "<div>\n",
       "<style scoped>\n",
       "    .dataframe tbody tr th:only-of-type {\n",
       "        vertical-align: middle;\n",
       "    }\n",
       "\n",
       "    .dataframe tbody tr th {\n",
       "        vertical-align: top;\n",
       "    }\n",
       "\n",
       "    .dataframe thead th {\n",
       "        text-align: right;\n",
       "    }\n",
       "</style>\n",
       "<table border=\"1\" class=\"dataframe\">\n",
       "  <thead>\n",
       "    <tr style=\"text-align: right;\">\n",
       "      <th></th>\n",
       "      <th>Time</th>\n",
       "      <th>Contracts</th>\n",
       "      <th>Funding Interval</th>\n",
       "      <th>Funding Rate</th>\n",
       "    </tr>\n",
       "  </thead>\n",
       "  <tbody>\n",
       "    <tr>\n",
       "      <th>0</th>\n",
       "      <td>2023-08-18 10:00:00</td>\n",
       "      <td>BTCUSDT Perpetual</td>\n",
       "      <td>8h</td>\n",
       "      <td>-0.000046%</td>\n",
       "    </tr>\n",
       "    <tr>\n",
       "      <th>1</th>\n",
       "      <td>2023-08-18 02:00:00</td>\n",
       "      <td>BTCUSDT Perpetual</td>\n",
       "      <td>8h</td>\n",
       "      <td>0.010000%</td>\n",
       "    </tr>\n",
       "    <tr>\n",
       "      <th>2</th>\n",
       "      <td>2023-08-17 18:00:00</td>\n",
       "      <td>BTCUSDT Perpetual</td>\n",
       "      <td>8h</td>\n",
       "      <td>0.010000%</td>\n",
       "    </tr>\n",
       "    <tr>\n",
       "      <th>3</th>\n",
       "      <td>2023-08-17 10:00:00</td>\n",
       "      <td>BTCUSDT Perpetual</td>\n",
       "      <td>8h</td>\n",
       "      <td>0.010000%</td>\n",
       "    </tr>\n",
       "    <tr>\n",
       "      <th>4</th>\n",
       "      <td>2023-08-17 02:00:00</td>\n",
       "      <td>BTCUSDT Perpetual</td>\n",
       "      <td>8h</td>\n",
       "      <td>0.010000%</td>\n",
       "    </tr>\n",
       "  </tbody>\n",
       "</table>\n",
       "</div>"
      ],
      "text/plain": [
       "                  Time          Contracts Funding Interval Funding Rate\n",
       "0  2023-08-18 10:00:00  BTCUSDT Perpetual               8h   -0.000046%\n",
       "1  2023-08-18 02:00:00  BTCUSDT Perpetual               8h    0.010000%\n",
       "2  2023-08-17 18:00:00  BTCUSDT Perpetual               8h    0.010000%\n",
       "3  2023-08-17 10:00:00  BTCUSDT Perpetual               8h    0.010000%\n",
       "4  2023-08-17 02:00:00  BTCUSDT Perpetual               8h    0.010000%"
      ]
     },
     "execution_count": 2,
     "metadata": {},
     "output_type": "execute_result"
    }
   ],
   "source": [
    "funding_binance = pd.read_csv('funding_rate_btc_binance.csv')\n",
    "funding_binance.head(5)"
   ]
  },
  {
   "cell_type": "code",
   "execution_count": 3,
   "metadata": {},
   "outputs": [
    {
     "data": {
      "text/html": [
       "<div>\n",
       "<style scoped>\n",
       "    .dataframe tbody tr th:only-of-type {\n",
       "        vertical-align: middle;\n",
       "    }\n",
       "\n",
       "    .dataframe tbody tr th {\n",
       "        vertical-align: top;\n",
       "    }\n",
       "\n",
       "    .dataframe thead th {\n",
       "        text-align: right;\n",
       "    }\n",
       "</style>\n",
       "<table border=\"1\" class=\"dataframe\">\n",
       "  <thead>\n",
       "    <tr style=\"text-align: right;\">\n",
       "      <th></th>\n",
       "      <th>Time(UTC)</th>\n",
       "      <th>Symbol</th>\n",
       "      <th>Funding Rate</th>\n",
       "    </tr>\n",
       "  </thead>\n",
       "  <tbody>\n",
       "    <tr>\n",
       "      <th>0</th>\n",
       "      <td>2023-08-18 08:00:00</td>\n",
       "      <td>BTCUSDT</td>\n",
       "      <td>-0.000005</td>\n",
       "    </tr>\n",
       "    <tr>\n",
       "      <th>1</th>\n",
       "      <td>2023-08-18 00:00:00</td>\n",
       "      <td>BTCUSDT</td>\n",
       "      <td>0.000064</td>\n",
       "    </tr>\n",
       "    <tr>\n",
       "      <th>2</th>\n",
       "      <td>2023-08-17 16:00:00</td>\n",
       "      <td>BTCUSDT</td>\n",
       "      <td>0.000100</td>\n",
       "    </tr>\n",
       "    <tr>\n",
       "      <th>3</th>\n",
       "      <td>2023-08-17 08:00:00</td>\n",
       "      <td>BTCUSDT</td>\n",
       "      <td>0.000100</td>\n",
       "    </tr>\n",
       "    <tr>\n",
       "      <th>4</th>\n",
       "      <td>2023-08-17 00:00:00</td>\n",
       "      <td>BTCUSDT</td>\n",
       "      <td>0.000100</td>\n",
       "    </tr>\n",
       "  </tbody>\n",
       "</table>\n",
       "</div>"
      ],
      "text/plain": [
       "             Time(UTC)   Symbol  Funding Rate\n",
       "0  2023-08-18 08:00:00  BTCUSDT     -0.000005\n",
       "1  2023-08-18 00:00:00  BTCUSDT      0.000064\n",
       "2  2023-08-17 16:00:00  BTCUSDT      0.000100\n",
       "3  2023-08-17 08:00:00  BTCUSDT      0.000100\n",
       "4  2023-08-17 00:00:00  BTCUSDT      0.000100"
      ]
     },
     "execution_count": 3,
     "metadata": {},
     "output_type": "execute_result"
    }
   ],
   "source": [
    "funding_bybit = pd.read_excel('funding_rate_btc_bybit.xlsx')\n",
    "funding_bybit.head(5)"
   ]
  },
  {
   "cell_type": "markdown",
   "metadata": {},
   "source": [
    "A continuación vamos a:\n",
    "- Seleccionar la columna de Funding Rate\n",
    "- Establecer la columna de tiempo como índice del dataframe y convertir a formato datetime\n",
    "- Descartar el resto de las columnas\n",
    "\n",
    "Además, podréis observar que la hora de Bybit es UTC mientras que la de Binance es UTC+2. Para sincronizarlas restaremos dos horas a Binance, quedadno así ambos exchanges en UTC.\n",
    "\n",
    "Por último, habremos de transformar el funding rate de tipo cadena a tipo flotante."
   ]
  },
  {
   "cell_type": "code",
   "execution_count": 4,
   "metadata": {},
   "outputs": [],
   "source": [
    "format_ = '%Y-%m-%d %H:%M:%S'\n",
    "funding_binance['ts'] = funding_binance['Time'].apply(lambda x: datetime.strptime(x, format_) - timedelta(hours=2))\n",
    "funding_bybit['ts'] = funding_bybit['Time(UTC)'].apply(lambda x: datetime.strptime(x, format_))\n",
    "\n",
    "funding_binance['FundingBinance'] = funding_binance['Funding Rate'].apply(lambda x: float(x[:-1]))\n",
    "funding_bybit['FundingBybit'] = funding_bybit['Funding Rate']\n",
    "\n",
    "funding_binance.set_index('ts', inplace=True)\n",
    "funding_bybit.set_index('ts', inplace=True)\n",
    "\n",
    "funding_binance = funding_binance['FundingBinance']\n",
    "funding_bybit = funding_bybit['FundingBybit']"
   ]
  },
  {
   "cell_type": "code",
   "execution_count": 5,
   "metadata": {},
   "outputs": [
    {
     "data": {
      "text/plain": [
       "ts\n",
       "2023-08-18 08:00:00   -0.000046\n",
       "2023-08-18 00:00:00    0.010000\n",
       "2023-08-17 16:00:00    0.010000\n",
       "2023-08-17 08:00:00    0.010000\n",
       "2023-08-17 00:00:00    0.010000\n",
       "Name: FundingBinance, dtype: float64"
      ]
     },
     "execution_count": 5,
     "metadata": {},
     "output_type": "execute_result"
    }
   ],
   "source": [
    "funding_binance.head(5)"
   ]
  },
  {
   "cell_type": "code",
   "execution_count": 6,
   "metadata": {},
   "outputs": [
    {
     "data": {
      "text/plain": [
       "ts\n",
       "2023-08-18 08:00:00   -0.000005\n",
       "2023-08-18 00:00:00    0.000064\n",
       "2023-08-17 16:00:00    0.000100\n",
       "2023-08-17 08:00:00    0.000100\n",
       "2023-08-17 00:00:00    0.000100\n",
       "Name: FundingBybit, dtype: float64"
      ]
     },
     "execution_count": 6,
     "metadata": {},
     "output_type": "execute_result"
    }
   ],
   "source": [
    "funding_bybit.head(5)"
   ]
  },
  {
   "cell_type": "markdown",
   "metadata": {},
   "source": [
    "Juntemos ambos dataframe haciéndolos coincidir por timestamp y eliminemos las celdas vacías."
   ]
  },
  {
   "cell_type": "code",
   "execution_count": 7,
   "metadata": {},
   "outputs": [
    {
     "data": {
      "text/html": [
       "<div>\n",
       "<style scoped>\n",
       "    .dataframe tbody tr th:only-of-type {\n",
       "        vertical-align: middle;\n",
       "    }\n",
       "\n",
       "    .dataframe tbody tr th {\n",
       "        vertical-align: top;\n",
       "    }\n",
       "\n",
       "    .dataframe thead th {\n",
       "        text-align: right;\n",
       "    }\n",
       "</style>\n",
       "<table border=\"1\" class=\"dataframe\">\n",
       "  <thead>\n",
       "    <tr style=\"text-align: right;\">\n",
       "      <th></th>\n",
       "      <th>FundingBinance</th>\n",
       "      <th>FundingBybit</th>\n",
       "    </tr>\n",
       "    <tr>\n",
       "      <th>ts</th>\n",
       "      <th></th>\n",
       "      <th></th>\n",
       "    </tr>\n",
       "  </thead>\n",
       "  <tbody>\n",
       "    <tr>\n",
       "      <th>2020-03-29 08:00:00</th>\n",
       "      <td>-0.029120</td>\n",
       "      <td>0.0001</td>\n",
       "    </tr>\n",
       "    <tr>\n",
       "      <th>2020-03-29 16:00:00</th>\n",
       "      <td>-0.025613</td>\n",
       "      <td>0.0001</td>\n",
       "    </tr>\n",
       "    <tr>\n",
       "      <th>2020-03-30 00:00:00</th>\n",
       "      <td>-0.064310</td>\n",
       "      <td>0.0001</td>\n",
       "    </tr>\n",
       "    <tr>\n",
       "      <th>2020-03-30 08:00:00</th>\n",
       "      <td>-0.033817</td>\n",
       "      <td>0.0001</td>\n",
       "    </tr>\n",
       "    <tr>\n",
       "      <th>2020-03-30 16:00:00</th>\n",
       "      <td>-0.006982</td>\n",
       "      <td>0.0001</td>\n",
       "    </tr>\n",
       "  </tbody>\n",
       "</table>\n",
       "</div>"
      ],
      "text/plain": [
       "                     FundingBinance  FundingBybit\n",
       "ts                                               \n",
       "2020-03-29 08:00:00       -0.029120        0.0001\n",
       "2020-03-29 16:00:00       -0.025613        0.0001\n",
       "2020-03-30 00:00:00       -0.064310        0.0001\n",
       "2020-03-30 08:00:00       -0.033817        0.0001\n",
       "2020-03-30 16:00:00       -0.006982        0.0001"
      ]
     },
     "execution_count": 7,
     "metadata": {},
     "output_type": "execute_result"
    }
   ],
   "source": [
    "total_df = pd.concat([funding_binance, funding_bybit], axis=1)\n",
    "total_df.dropna(inplace=True)\n",
    "total_df.head(5)"
   ]
  },
  {
   "cell_type": "markdown",
   "metadata": {},
   "source": [
    "Vamos a calcular el rendimiento desde marzo de 2020 si entramos largo de Binance y corto de Bybit. \n",
    "\n",
    "Es importante tener dos cosas en cuenta:\n",
    "- Las ganancias o pérdidas no se acumulan.\n",
    "- Si el funding rate es positivo entonces el que va largo del contrato ha de pagar, y el que va corto lo recibe.\n",
    "\n",
    "Vamos a asumir una inversión de 1000€ en total. Esta inversión se repartiriía: 500€ para comprar y 500 para vender."
   ]
  },
  {
   "cell_type": "code",
   "execution_count": 17,
   "metadata": {},
   "outputs": [
    {
     "data": {
      "text/html": [
       "<div>\n",
       "<style scoped>\n",
       "    .dataframe tbody tr th:only-of-type {\n",
       "        vertical-align: middle;\n",
       "    }\n",
       "\n",
       "    .dataframe tbody tr th {\n",
       "        vertical-align: top;\n",
       "    }\n",
       "\n",
       "    .dataframe thead th {\n",
       "        text-align: right;\n",
       "    }\n",
       "</style>\n",
       "<table border=\"1\" class=\"dataframe\">\n",
       "  <thead>\n",
       "    <tr style=\"text-align: right;\">\n",
       "      <th></th>\n",
       "      <th>FundingBinance</th>\n",
       "      <th>FundingBybit</th>\n",
       "      <th>PnLDiario</th>\n",
       "      <th>PnLCompra</th>\n",
       "      <th>PnLVenta</th>\n",
       "    </tr>\n",
       "    <tr>\n",
       "      <th>ts</th>\n",
       "      <th></th>\n",
       "      <th></th>\n",
       "      <th></th>\n",
       "      <th></th>\n",
       "      <th></th>\n",
       "    </tr>\n",
       "  </thead>\n",
       "  <tbody>\n",
       "    <tr>\n",
       "      <th>2020-03-29 08:00:00</th>\n",
       "      <td>-0.029120</td>\n",
       "      <td>0.0001</td>\n",
       "      <td>0.146100</td>\n",
       "      <td>0.145600</td>\n",
       "      <td>0.0005</td>\n",
       "    </tr>\n",
       "    <tr>\n",
       "      <th>2020-03-29 16:00:00</th>\n",
       "      <td>-0.025613</td>\n",
       "      <td>0.0001</td>\n",
       "      <td>0.128565</td>\n",
       "      <td>0.128065</td>\n",
       "      <td>0.0005</td>\n",
       "    </tr>\n",
       "    <tr>\n",
       "      <th>2020-03-30 00:00:00</th>\n",
       "      <td>-0.064310</td>\n",
       "      <td>0.0001</td>\n",
       "      <td>0.322050</td>\n",
       "      <td>0.321550</td>\n",
       "      <td>0.0005</td>\n",
       "    </tr>\n",
       "    <tr>\n",
       "      <th>2020-03-30 08:00:00</th>\n",
       "      <td>-0.033817</td>\n",
       "      <td>0.0001</td>\n",
       "      <td>0.169585</td>\n",
       "      <td>0.169085</td>\n",
       "      <td>0.0005</td>\n",
       "    </tr>\n",
       "    <tr>\n",
       "      <th>2020-03-30 16:00:00</th>\n",
       "      <td>-0.006982</td>\n",
       "      <td>0.0001</td>\n",
       "      <td>0.035410</td>\n",
       "      <td>0.034910</td>\n",
       "      <td>0.0005</td>\n",
       "    </tr>\n",
       "  </tbody>\n",
       "</table>\n",
       "</div>"
      ],
      "text/plain": [
       "                     FundingBinance  FundingBybit  PnLDiario  PnLCompra  \\\n",
       "ts                                                                        \n",
       "2020-03-29 08:00:00       -0.029120        0.0001   0.146100   0.145600   \n",
       "2020-03-29 16:00:00       -0.025613        0.0001   0.128565   0.128065   \n",
       "2020-03-30 00:00:00       -0.064310        0.0001   0.322050   0.321550   \n",
       "2020-03-30 08:00:00       -0.033817        0.0001   0.169585   0.169085   \n",
       "2020-03-30 16:00:00       -0.006982        0.0001   0.035410   0.034910   \n",
       "\n",
       "                     PnLVenta  \n",
       "ts                             \n",
       "2020-03-29 08:00:00    0.0005  \n",
       "2020-03-29 16:00:00    0.0005  \n",
       "2020-03-30 00:00:00    0.0005  \n",
       "2020-03-30 08:00:00    0.0005  \n",
       "2020-03-30 16:00:00    0.0005  "
      ]
     },
     "execution_count": 17,
     "metadata": {},
     "output_type": "execute_result"
    }
   ],
   "source": [
    "inversion = 1000 # Euros\n",
    "\n",
    "total_df['PnLCompra'] = (-1) * total_df.FundingBinance / 100 * inversion / 2\n",
    "total_df['PnLVenta'] = total_df.FundingBybit / 100 * inversion / 2\n",
    "total_df['PnLDiario'] = total_df.PnLCompra + total_df.PnLVenta\n",
    "\n",
    "total_df.head(5)"
   ]
  },
  {
   "cell_type": "markdown",
   "metadata": {},
   "source": [
    "A cocntinuación calculamos el PnL acumulado"
   ]
  },
  {
   "cell_type": "code",
   "execution_count": 19,
   "metadata": {},
   "outputs": [
    {
     "data": {
      "text/html": [
       "<div>\n",
       "<style scoped>\n",
       "    .dataframe tbody tr th:only-of-type {\n",
       "        vertical-align: middle;\n",
       "    }\n",
       "\n",
       "    .dataframe tbody tr th {\n",
       "        vertical-align: top;\n",
       "    }\n",
       "\n",
       "    .dataframe thead th {\n",
       "        text-align: right;\n",
       "    }\n",
       "</style>\n",
       "<table border=\"1\" class=\"dataframe\">\n",
       "  <thead>\n",
       "    <tr style=\"text-align: right;\">\n",
       "      <th></th>\n",
       "      <th>FundingBinance</th>\n",
       "      <th>FundingBybit</th>\n",
       "      <th>PnLDiario</th>\n",
       "      <th>PnLCompra</th>\n",
       "      <th>PnLVenta</th>\n",
       "      <th>PnLAcumulado</th>\n",
       "    </tr>\n",
       "    <tr>\n",
       "      <th>ts</th>\n",
       "      <th></th>\n",
       "      <th></th>\n",
       "      <th></th>\n",
       "      <th></th>\n",
       "      <th></th>\n",
       "      <th></th>\n",
       "    </tr>\n",
       "  </thead>\n",
       "  <tbody>\n",
       "    <tr>\n",
       "      <th>2020-03-29 08:00:00</th>\n",
       "      <td>-0.029120</td>\n",
       "      <td>0.0001</td>\n",
       "      <td>0.146100</td>\n",
       "      <td>0.145600</td>\n",
       "      <td>0.0005</td>\n",
       "      <td>0.146100</td>\n",
       "    </tr>\n",
       "    <tr>\n",
       "      <th>2020-03-29 16:00:00</th>\n",
       "      <td>-0.025613</td>\n",
       "      <td>0.0001</td>\n",
       "      <td>0.128565</td>\n",
       "      <td>0.128065</td>\n",
       "      <td>0.0005</td>\n",
       "      <td>0.274665</td>\n",
       "    </tr>\n",
       "    <tr>\n",
       "      <th>2020-03-30 00:00:00</th>\n",
       "      <td>-0.064310</td>\n",
       "      <td>0.0001</td>\n",
       "      <td>0.322050</td>\n",
       "      <td>0.321550</td>\n",
       "      <td>0.0005</td>\n",
       "      <td>0.596715</td>\n",
       "    </tr>\n",
       "    <tr>\n",
       "      <th>2020-03-30 08:00:00</th>\n",
       "      <td>-0.033817</td>\n",
       "      <td>0.0001</td>\n",
       "      <td>0.169585</td>\n",
       "      <td>0.169085</td>\n",
       "      <td>0.0005</td>\n",
       "      <td>0.766300</td>\n",
       "    </tr>\n",
       "    <tr>\n",
       "      <th>2020-03-30 16:00:00</th>\n",
       "      <td>-0.006982</td>\n",
       "      <td>0.0001</td>\n",
       "      <td>0.035410</td>\n",
       "      <td>0.034910</td>\n",
       "      <td>0.0005</td>\n",
       "      <td>0.801710</td>\n",
       "    </tr>\n",
       "  </tbody>\n",
       "</table>\n",
       "</div>"
      ],
      "text/plain": [
       "                     FundingBinance  FundingBybit  PnLDiario  PnLCompra  \\\n",
       "ts                                                                        \n",
       "2020-03-29 08:00:00       -0.029120        0.0001   0.146100   0.145600   \n",
       "2020-03-29 16:00:00       -0.025613        0.0001   0.128565   0.128065   \n",
       "2020-03-30 00:00:00       -0.064310        0.0001   0.322050   0.321550   \n",
       "2020-03-30 08:00:00       -0.033817        0.0001   0.169585   0.169085   \n",
       "2020-03-30 16:00:00       -0.006982        0.0001   0.035410   0.034910   \n",
       "\n",
       "                     PnLVenta  PnLAcumulado  \n",
       "ts                                           \n",
       "2020-03-29 08:00:00    0.0005      0.146100  \n",
       "2020-03-29 16:00:00    0.0005      0.274665  \n",
       "2020-03-30 00:00:00    0.0005      0.596715  \n",
       "2020-03-30 08:00:00    0.0005      0.766300  \n",
       "2020-03-30 16:00:00    0.0005      0.801710  "
      ]
     },
     "execution_count": 19,
     "metadata": {},
     "output_type": "execute_result"
    }
   ],
   "source": [
    "total_df['PnLAcumulado'] = total_df.PnLDiario.cumsum()\n",
    "total_df.head(5)"
   ]
  },
  {
   "cell_type": "markdown",
   "metadata": {},
   "source": [
    "Veamos la evolución del PnL acumulado en un gráfico"
   ]
  },
  {
   "cell_type": "code",
   "execution_count": 21,
   "metadata": {},
   "outputs": [
    {
     "data": {
      "image/png": "[encoded data removed]",
      "text/plain": [
       "<Figure size 720x432 with 1 Axes>"
      ]
     },
     "metadata": {
      "needs_background": "light"
     },
     "output_type": "display_data"
    }
   ],
   "source": [
    "plt.figure(figsize=(10, 6))\n",
    "fechas = total_df.index\n",
    "plt.plot(fechas, total_df.PnLAcumulado.values, label='Rendimiento Acumulado', linewidth=2)\n",
    "plt.xlabel('Fecha')\n",
    "plt.ylabel('Euros (€)')\n",
    "plt.title('BTC: Largos perpetuo Binance y cortos Bybit')\n",
    "plt.grid(True)\n",
    "plt.legend()\n",
    "plt.gcf().autofmt_xdate()\n",
    "# plt.savefig('btc_perp.png', format='png', dpi = 500)\n",
    "plt.show()"
   ]
  },
  {
   "cell_type": "markdown",
   "metadata": {},
   "source": [
    "¡Vaya! Esta trade supone una pérdida de 120€ en 1237 días (3.4 años). \n",
    "\n",
    "¿A alguno de vosotros se le ocurre cómo arreglarlo? ¡Exacto! Le damos la vuelta al trade, de forma que vayamos largos en Bybit cortos en Binance, así obtendríamos 120€ de beneficio en 1237 días."
   ]
  },
  {
   "cell_type": "code",
   "execution_count": 24,
   "metadata": {},
   "outputs": [
    {
     "data": {
      "text/plain": [
       "1237"
      ]
     },
     "execution_count": 24,
     "metadata": {},
     "output_type": "execute_result"
    }
   ],
   "source": [
    "(total_df.index[-1] - total_df.index[0]).days"
   ]
  },
  {
   "cell_type": "code",
   "execution_count": 23,
   "metadata": {},
   "outputs": [
    {
     "data": {
      "text/plain": [
       "3.389041095890411"
      ]
     },
     "execution_count": 23,
     "metadata": {},
     "output_type": "execute_result"
    }
   ],
   "source": [
    "(total_df.index[-1] - total_df.index[0]).days / 365"
   ]
  },
  {
   "cell_type": "markdown",
   "metadata": {},
   "source": [
    "Calculemos el rendimiento anualizado"
   ]
  },
  {
   "cell_type": "code",
   "execution_count": 25,
   "metadata": {},
   "outputs": [
    {
     "data": {
      "text/plain": [
       "12.0"
      ]
     },
     "execution_count": 25,
     "metadata": {},
     "output_type": "execute_result"
    }
   ],
   "source": [
    "120 / inversion * 100"
   ]
  },
  {
   "cell_type": "markdown",
   "metadata": {},
   "source": [
    "Los 120€ suponen un 12% de la inversión pero en 1237 días."
   ]
  },
  {
   "cell_type": "code",
   "execution_count": 27,
   "metadata": {},
   "outputs": [
    {
     "data": {
      "text/plain": [
       "3.540824575586096"
      ]
     },
     "execution_count": 27,
     "metadata": {},
     "output_type": "execute_result"
    }
   ],
   "source": [
    "12 / 1237 * 365"
   ]
  },
  {
   "cell_type": "markdown",
   "metadata": {},
   "source": [
    "Aquí lo tenemos, un 3.5% anual sobre la inversión"
   ]
  },
  {
   "cell_type": "code",
   "execution_count": 29,
   "metadata": {},
   "outputs": [
    {
     "data": {
      "image/png": "[encoded data removed]",
      "text/plain": [
       "<Figure size 720x432 with 1 Axes>"
      ]
     },
     "metadata": {
      "needs_background": "light"
     },
     "output_type": "display_data"
    }
   ],
   "source": [
    "plt.figure(figsize=(10, 6))\n",
    "fechas = total_df.index\n",
    "plt.plot(fechas, -total_df.PnLAcumulado.values, label='Rendimiento Acumulado', linewidth=2)\n",
    "plt.xlabel('Fecha')\n",
    "plt.ylabel('Euros (€)')\n",
    "plt.title('BTC: Largos perpetuo Bybit y cortos Binance')\n",
    "plt.grid(True)\n",
    "plt.legend()\n",
    "plt.gcf().autofmt_xdate()\n",
    "plt.savefig('btc_perp.png', format='png', dpi = 500)\n",
    "plt.show()"
   ]
  },
  {
   "cell_type": "code",
   "execution_count": null,
   "metadata": {},
   "outputs": [],
   "source": []
  }
 ],
 "metadata": {
  "kernelspec": {
   "display_name": "Python 3",
   "language": "python",
   "name": "python3"
  },
  "language_info": {
   "codemirror_mode": {
    "name": "ipython",
    "version": 3
   },
   "file_extension": ".py",
   "mimetype": "text/x-python",
   "name": "python",
   "nbconvert_exporter": "python",
   "pygments_lexer": "ipython3",
   "version": "3.7.4"
  }
 },
 "nbformat": 4,
 "nbformat_minor": 2
}
