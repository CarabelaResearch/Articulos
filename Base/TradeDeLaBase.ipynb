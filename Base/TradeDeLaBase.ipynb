{
 "cells": [
  {
   "cell_type": "markdown",
   "metadata": {},
   "source": [
    "## Bienvenidos al Notebook del trade de la base\n",
    "\n",
    "En este notebook vamos a calcular la base para distintos contratos futuros de criptomonedas, concretamente Bitcoin y Ethereum en Binance. Vamos a usar la librería [ccxt](https://github.com/ccxt/ccxt) para descargar los datos. No obstante, podéis usar multitud de librerías, incluso fabricar vuestros propios códigos para comunicaros con los mercados y pedir los datos mediante API o sockets.\n",
    "\n",
    "<span style=\"color:blue\">Importante: instalar las librerías para que el código funcione.</span>. Simplemente ejecutad el siguiente comando desde una terminal en la misma ruta del código: python -m pip install -r requirements.txt."
   ]
  },
  {
   "cell_type": "code",
   "execution_count": 1,
   "metadata": {},
   "outputs": [],
   "source": [
    "# Importamos las liberías para trabajar con datos y gráficos\n",
    "from datetime import datetime\n",
    "import matplotlib.pyplot as plt\n",
    "import matplotlib.dates\n",
    "from datetime import datetime\n",
    "import pandas as pd\n",
    "import numpy as np\n",
    "import ccxt # Librería para descargar los datos de criptomonedas\n",
    "\n",
    "# https://stackoverflow.com/questions/47404653/pandas-0-21-0-timestamp-compatibility-issue-with-matplotlib \n",
    "from pandas.plotting import register_matplotlib_converters\n",
    "register_matplotlib_converters()"
   ]
  },
  {
   "cell_type": "code",
   "execution_count": 2,
   "metadata": {},
   "outputs": [],
   "source": [
    "binance = ccxt.binance() # Creamos el objeto para comunicarnos con Binance"
   ]
  },
  {
   "cell_type": "markdown",
   "metadata": {},
   "source": [
    "Vamos a descargar los precios para Bitcoin (BTC) del futuro más cercano en el tiempo y también del spot. Los precios de los futuros históricos no están disponibles desde ccxt. \n",
    "\n",
    "Mediante el método \"fetch_ohlcv\" descargamos las barras de mercado cada 8h. Las barras de marcado resumen los datos para un rango temporal, en este caso de 8 horas (8h). El resumen consiste en:\n",
    "- El precio de apertura del intervalo (la o de ohlcv viene de open).\n",
    "- El precio más alto del intervalo (la h de ohlcv viene de high).\n",
    "- El precio más bajo del intervalo (la l de ohlcv viene de low).\n",
    "- El precio de cierre del intervalo (la c de ohlcv viene close).\n",
    "- el volumen total del intervalo (la v de ohlcv viene de volumen)."
   ]
  },
  {
   "cell_type": "code",
   "execution_count": 3,
   "metadata": {},
   "outputs": [],
   "source": [
    "nombre_futuro = 'BTCUSDT_230929'\n",
    "nombre_spot = 'BTCUSDT'\n",
    "btc_fut = binance.fetch_ohlcv(nombre_futuro, '8h')\n",
    "btc_spot = binance.fetch_ohlcv(nombre_spot, '8h')"
   ]
  },
  {
   "cell_type": "markdown",
   "metadata": {},
   "source": [
    "Creamos un dataframe de pandas con los datos que devuelve ccxt, una para el spot y otro para el futuro."
   ]
  },
  {
   "cell_type": "code",
   "execution_count": 4,
   "metadata": {},
   "outputs": [],
   "source": [
    "btc_fut_df = pd.DataFrame(btc_fut, columns = ['ts', 'o', 'h', 'l', 'c', 'v'])\n",
    "btc_spot_df = pd.DataFrame(btc_spot, columns = ['ts', 'o', 'h', 'l', 'c', 'v'])"
   ]
  },
  {
   "cell_type": "markdown",
   "metadata": {},
   "source": [
    "Transformamos el índice de los dataframe con la fecha en formato datetime para poder trabajar con ella."
   ]
  },
  {
   "cell_type": "code",
   "execution_count": 5,
   "metadata": {},
   "outputs": [],
   "source": [
    "btc_fut_df['ts'] = btc_fut_df['ts'].apply(lambda x: datetime.utcfromtimestamp(x / 1000).strftime('%Y-%m-%d %H:%M:%S'))\n",
    "btc_spot_df['ts'] = btc_spot_df['ts'].apply(lambda x: datetime.utcfromtimestamp(x / 1000).strftime('%Y-%m-%d %H:%M:%S'))\n",
    "\n",
    "btc_fut_df.set_index('ts', inplace=True)\n",
    "btc_spot_df.set_index('ts', inplace=True)"
   ]
  },
  {
   "cell_type": "markdown",
   "metadata": {},
   "source": [
    "Las cinco primeras filas de los precios del futuro. Como podéis observar las filas van de 8 horas en 8 horas."
   ]
  },
  {
   "cell_type": "code",
   "execution_count": 6,
   "metadata": {},
   "outputs": [
    {
     "data": {
      "text/html": [
       "<div>\n",
       "<style scoped>\n",
       "    .dataframe tbody tr th:only-of-type {\n",
       "        vertical-align: middle;\n",
       "    }\n",
       "\n",
       "    .dataframe tbody tr th {\n",
       "        vertical-align: top;\n",
       "    }\n",
       "\n",
       "    .dataframe thead th {\n",
       "        text-align: right;\n",
       "    }\n",
       "</style>\n",
       "<table border=\"1\" class=\"dataframe\">\n",
       "  <thead>\n",
       "    <tr style=\"text-align: right;\">\n",
       "      <th></th>\n",
       "      <th>o</th>\n",
       "      <th>h</th>\n",
       "      <th>l</th>\n",
       "      <th>c</th>\n",
       "      <th>v</th>\n",
       "    </tr>\n",
       "    <tr>\n",
       "      <th>ts</th>\n",
       "      <th></th>\n",
       "      <th></th>\n",
       "      <th></th>\n",
       "      <th></th>\n",
       "      <th></th>\n",
       "    </tr>\n",
       "  </thead>\n",
       "  <tbody>\n",
       "    <tr>\n",
       "      <th>2023-06-25 00:00:00</th>\n",
       "      <td>30711.4</td>\n",
       "      <td>31939.0</td>\n",
       "      <td>30711.4</td>\n",
       "      <td>31081.1</td>\n",
       "      <td>84.014</td>\n",
       "    </tr>\n",
       "    <tr>\n",
       "      <th>2023-06-25 08:00:00</th>\n",
       "      <td>31081.7</td>\n",
       "      <td>31264.8</td>\n",
       "      <td>30965.1</td>\n",
       "      <td>31124.6</td>\n",
       "      <td>112.503</td>\n",
       "    </tr>\n",
       "    <tr>\n",
       "      <th>2023-06-25 16:00:00</th>\n",
       "      <td>31134.4</td>\n",
       "      <td>31236.0</td>\n",
       "      <td>30651.0</td>\n",
       "      <td>30880.3</td>\n",
       "      <td>131.964</td>\n",
       "    </tr>\n",
       "    <tr>\n",
       "      <th>2023-06-26 00:00:00</th>\n",
       "      <td>30881.2</td>\n",
       "      <td>31000.0</td>\n",
       "      <td>30436.6</td>\n",
       "      <td>30830.8</td>\n",
       "      <td>181.676</td>\n",
       "    </tr>\n",
       "    <tr>\n",
       "      <th>2023-06-26 08:00:00</th>\n",
       "      <td>30832.0</td>\n",
       "      <td>31080.0</td>\n",
       "      <td>30534.5</td>\n",
       "      <td>30841.3</td>\n",
       "      <td>133.316</td>\n",
       "    </tr>\n",
       "  </tbody>\n",
       "</table>\n",
       "</div>"
      ],
      "text/plain": [
       "                           o        h        l        c        v\n",
       "ts                                                              \n",
       "2023-06-25 00:00:00  30711.4  31939.0  30711.4  31081.1   84.014\n",
       "2023-06-25 08:00:00  31081.7  31264.8  30965.1  31124.6  112.503\n",
       "2023-06-25 16:00:00  31134.4  31236.0  30651.0  30880.3  131.964\n",
       "2023-06-26 00:00:00  30881.2  31000.0  30436.6  30830.8  181.676\n",
       "2023-06-26 08:00:00  30832.0  31080.0  30534.5  30841.3  133.316"
      ]
     },
     "execution_count": 6,
     "metadata": {},
     "output_type": "execute_result"
    }
   ],
   "source": [
    "btc_fut_df.head(5)"
   ]
  },
  {
   "cell_type": "markdown",
   "metadata": {},
   "source": [
    "Las cinco primeras filas de los precios spot."
   ]
  },
  {
   "cell_type": "code",
   "execution_count": 7,
   "metadata": {},
   "outputs": [
    {
     "data": {
      "text/html": [
       "<div>\n",
       "<style scoped>\n",
       "    .dataframe tbody tr th:only-of-type {\n",
       "        vertical-align: middle;\n",
       "    }\n",
       "\n",
       "    .dataframe tbody tr th {\n",
       "        vertical-align: top;\n",
       "    }\n",
       "\n",
       "    .dataframe thead th {\n",
       "        text-align: right;\n",
       "    }\n",
       "</style>\n",
       "<table border=\"1\" class=\"dataframe\">\n",
       "  <thead>\n",
       "    <tr style=\"text-align: right;\">\n",
       "      <th></th>\n",
       "      <th>o</th>\n",
       "      <th>h</th>\n",
       "      <th>l</th>\n",
       "      <th>c</th>\n",
       "      <th>v</th>\n",
       "    </tr>\n",
       "    <tr>\n",
       "      <th>ts</th>\n",
       "      <th></th>\n",
       "      <th></th>\n",
       "      <th></th>\n",
       "      <th></th>\n",
       "      <th></th>\n",
       "    </tr>\n",
       "  </thead>\n",
       "  <tbody>\n",
       "    <tr>\n",
       "      <th>2023-04-15 08:00:00</th>\n",
       "      <td>30433.29</td>\n",
       "      <td>30470.00</td>\n",
       "      <td>30285.0</td>\n",
       "      <td>30325.27</td>\n",
       "      <td>7940.29532</td>\n",
       "    </tr>\n",
       "    <tr>\n",
       "      <th>2023-04-15 16:00:00</th>\n",
       "      <td>30325.27</td>\n",
       "      <td>30360.19</td>\n",
       "      <td>30202.0</td>\n",
       "      <td>30295.09</td>\n",
       "      <td>7588.17359</td>\n",
       "    </tr>\n",
       "    <tr>\n",
       "      <th>2023-04-16 00:00:00</th>\n",
       "      <td>30295.10</td>\n",
       "      <td>30399.40</td>\n",
       "      <td>30120.0</td>\n",
       "      <td>30344.97</td>\n",
       "      <td>6305.55476</td>\n",
       "    </tr>\n",
       "    <tr>\n",
       "      <th>2023-04-16 08:00:00</th>\n",
       "      <td>30344.97</td>\n",
       "      <td>30362.00</td>\n",
       "      <td>30160.4</td>\n",
       "      <td>30332.98</td>\n",
       "      <td>8318.72236</td>\n",
       "    </tr>\n",
       "    <tr>\n",
       "      <th>2023-04-16 16:00:00</th>\n",
       "      <td>30332.98</td>\n",
       "      <td>30549.99</td>\n",
       "      <td>30192.0</td>\n",
       "      <td>30304.65</td>\n",
       "      <td>11807.71610</td>\n",
       "    </tr>\n",
       "  </tbody>\n",
       "</table>\n",
       "</div>"
      ],
      "text/plain": [
       "                            o         h        l         c            v\n",
       "ts                                                                     \n",
       "2023-04-15 08:00:00  30433.29  30470.00  30285.0  30325.27   7940.29532\n",
       "2023-04-15 16:00:00  30325.27  30360.19  30202.0  30295.09   7588.17359\n",
       "2023-04-16 00:00:00  30295.10  30399.40  30120.0  30344.97   6305.55476\n",
       "2023-04-16 08:00:00  30344.97  30362.00  30160.4  30332.98   8318.72236\n",
       "2023-04-16 16:00:00  30332.98  30549.99  30192.0  30304.65  11807.71610"
      ]
     },
     "execution_count": 7,
     "metadata": {},
     "output_type": "execute_result"
    }
   ],
   "source": [
    "btc_spot_df.head(5)"
   ]
  },
  {
   "cell_type": "markdown",
   "metadata": {},
   "source": [
    "A continuación juntamos ambas tablas haciendo coincidir las fechas y nos quedamos con el precio de apertura."
   ]
  },
  {
   "cell_type": "code",
   "execution_count": 8,
   "metadata": {},
   "outputs": [
    {
     "data": {
      "text/html": [
       "<div>\n",
       "<style scoped>\n",
       "    .dataframe tbody tr th:only-of-type {\n",
       "        vertical-align: middle;\n",
       "    }\n",
       "\n",
       "    .dataframe tbody tr th {\n",
       "        vertical-align: top;\n",
       "    }\n",
       "\n",
       "    .dataframe thead th {\n",
       "        text-align: right;\n",
       "    }\n",
       "</style>\n",
       "<table border=\"1\" class=\"dataframe\">\n",
       "  <thead>\n",
       "    <tr style=\"text-align: right;\">\n",
       "      <th></th>\n",
       "      <th>precio_spot</th>\n",
       "      <th>precio_futuro</th>\n",
       "    </tr>\n",
       "    <tr>\n",
       "      <th>ts</th>\n",
       "      <th></th>\n",
       "      <th></th>\n",
       "    </tr>\n",
       "  </thead>\n",
       "  <tbody>\n",
       "    <tr>\n",
       "      <th>2023-06-25 00:00:00</th>\n",
       "      <td>30527.44</td>\n",
       "      <td>30711.4</td>\n",
       "    </tr>\n",
       "    <tr>\n",
       "      <th>2023-06-25 08:00:00</th>\n",
       "      <td>30723.78</td>\n",
       "      <td>31081.7</td>\n",
       "    </tr>\n",
       "    <tr>\n",
       "      <th>2023-06-25 16:00:00</th>\n",
       "      <td>30585.16</td>\n",
       "      <td>31134.4</td>\n",
       "    </tr>\n",
       "    <tr>\n",
       "      <th>2023-06-26 00:00:00</th>\n",
       "      <td>30462.67</td>\n",
       "      <td>30881.2</td>\n",
       "    </tr>\n",
       "    <tr>\n",
       "      <th>2023-06-26 08:00:00</th>\n",
       "      <td>30404.28</td>\n",
       "      <td>30832.0</td>\n",
       "    </tr>\n",
       "  </tbody>\n",
       "</table>\n",
       "</div>"
      ],
      "text/plain": [
       "                     precio_spot  precio_futuro\n",
       "ts                                             \n",
       "2023-06-25 00:00:00     30527.44        30711.4\n",
       "2023-06-25 08:00:00     30723.78        31081.7\n",
       "2023-06-25 16:00:00     30585.16        31134.4\n",
       "2023-06-26 00:00:00     30462.67        30881.2\n",
       "2023-06-26 08:00:00     30404.28        30832.0"
      ]
     },
     "execution_count": 8,
     "metadata": {},
     "output_type": "execute_result"
    }
   ],
   "source": [
    "df = pd.concat([btc_spot_df.o, btc_fut_df.o], axis=1, sort=True)\n",
    "df.columns = ['precio_spot', 'precio_futuro']\n",
    "df = df.dropna()\n",
    "df.head()"
   ]
  },
  {
   "cell_type": "code",
   "execution_count": 9,
   "metadata": {},
   "outputs": [
    {
     "data": {
      "image/png": "[encoded data removed]",
      "text/plain": [
       "<Figure size 720x432 with 1 Axes>"
      ]
     },
     "metadata": {
      "needs_background": "light"
     },
     "output_type": "display_data"
    }
   ],
   "source": [
    "plt.figure(figsize=(10, 6))\n",
    "fechas = [datetime.strptime(ax, '%Y-%m-%d %H:%M:%S') for ax in df.index]\n",
    "plt.plot(fechas, df.precio_spot.values, label=nombre_spot, linewidth=2)\n",
    "plt.plot(fechas, df.precio_futuro.values, label=nombre_futuro, linewidth=2)\n",
    "plt.xlabel('Fecha')\n",
    "plt.ylabel('Dólares ($)')\n",
    "plt.title('Spot vs futuro')\n",
    "plt.grid(True)\n",
    "plt.legend()\n",
    "plt.gcf().autofmt_xdate()\n",
    "plt.savefig('btc_spot_fut.png', format='png', dpi = 500)\n",
    "plt.show()"
   ]
  },
  {
   "cell_type": "markdown",
   "metadata": {},
   "source": [
    "Vamos a calcular la base como <font size=5> $\\frac{precio_f - precio_s}{precio_s}$ $\\times$ 100 </font>, donde:\n",
    "- $precio_f$ es el precio del futuro\n",
    "- $precio_s$ es el precio del spot"
   ]
  },
  {
   "cell_type": "code",
   "execution_count": 10,
   "metadata": {},
   "outputs": [
    {
     "data": {
      "text/plain": [
       "ts\n",
       "2023-06-25 00:00:00    0.602605\n",
       "2023-06-25 08:00:00    1.164961\n",
       "2023-06-25 16:00:00    1.795773\n",
       "2023-06-26 00:00:00    1.373911\n",
       "2023-06-26 08:00:00    1.406776\n",
       "dtype: float64"
      ]
     },
     "execution_count": 10,
     "metadata": {},
     "output_type": "execute_result"
    }
   ],
   "source": [
    "base_df = (df.precio_futuro - df.precio_spot) / df.precio_spot * 100\n",
    "base_df.head() "
   ]
  },
  {
   "cell_type": "markdown",
   "metadata": {},
   "source": [
    "Es importante anualizar las bases anteriores. Si lo pensáis, cada uno de los porcentajes anteriores corresponde a un número de días distinto. Los primeros porcentajes van desde junio hasta finales de septiembre. Es decir, no es lo mismo un 1% mensual que un 1% trimestral. Es por ello que anualizamos los porcentajes de la siguiente manera:\n",
    "\n",
    "1. Calculamos el porcentaje diario como: base_df / número de días\n",
    "2. Multiplicamos por 365\n",
    "\n",
    "El número de días sería entre la fecha de vencimiento del futuro (29/09/2023) y la fecha en la que se calcula la base. Por tanto, la fórmula para anualizar la base sería:\n",
    "\n",
    "<font size=3> base anualizada = $\\frac{base}{365}$ $\\times$ numero de dias </font>"
   ]
  },
  {
   "cell_type": "code",
   "execution_count": 11,
   "metadata": {},
   "outputs": [],
   "source": [
    "fechas = [datetime.strptime(ax, '%Y-%m-%d %H:%M:%S') for ax in base_df.index]\n",
    "fecha_futuro = datetime(2023, 9, 29, 0, 0)\n",
    "dias_para_vencimiento = np.array([(fecha_futuro - ax).days for ax in fechas])"
   ]
  },
  {
   "cell_type": "code",
   "execution_count": 12,
   "metadata": {},
   "outputs": [
    {
     "data": {
      "text/plain": [
       "ts\n",
       "2023-06-25 00:00:00    2.291156\n",
       "2023-06-25 08:00:00    4.475902\n",
       "2023-06-25 16:00:00    6.899548\n",
       "2023-06-26 00:00:00    5.278711\n",
       "2023-06-26 08:00:00    5.462480\n",
       "dtype: float64"
      ]
     },
     "execution_count": 12,
     "metadata": {},
     "output_type": "execute_result"
    }
   ],
   "source": [
    "base_anualizada_df = base_df / dias_para_vencimiento * 365\n",
    "base_anualizada_df.head()"
   ]
  },
  {
   "cell_type": "code",
   "execution_count": 13,
   "metadata": {},
   "outputs": [
    {
     "data": {
      "image/png": "[encoded data removed]",
      "text/plain": [
       "<Figure size 720x432 with 1 Axes>"
      ]
     },
     "metadata": {
      "needs_background": "light"
     },
     "output_type": "display_data"
    }
   ],
   "source": [
    "plt.figure(figsize=(10, 6))\n",
    "plt.plot(fechas, base_anualizada_df.values, linewidth=2)\n",
    "plt.xlabel('Fecha')\n",
    "plt.ylabel('Rendimiento anual (%)')\n",
    "plt.title('Base para ' + nombre_futuro)\n",
    "plt.grid(True)\n",
    "plt.gcf().autofmt_xdate()\n",
    "plt.savefig('base_btc.png', format='png', dpi = 500)\n",
    "plt.show()"
   ]
  },
  {
   "cell_type": "code",
   "execution_count": null,
   "metadata": {},
   "outputs": [],
   "source": []
  },
  {
   "cell_type": "code",
   "execution_count": null,
   "metadata": {},
   "outputs": [],
   "source": []
  },
  {
   "cell_type": "code",
   "execution_count": null,
   "metadata": {},
   "outputs": [],
   "source": []
  },
  {
   "cell_type": "code",
   "execution_count": 14,
   "metadata": {},
   "outputs": [],
   "source": [
    "import dill\n",
    "filename = 'globalsave.pkl'\n",
    "dill.dump_session(filename)"
   ]
  },
  {
   "cell_type": "code",
   "execution_count": 1,
   "metadata": {},
   "outputs": [],
   "source": [
    "import dill\n",
    "filename = 'globalsave.pkl'\n",
    "dill.load_session(filename)"
   ]
  },
  {
   "cell_type": "code",
   "execution_count": 2,
   "metadata": {},
   "outputs": [
    {
     "data": {
      "text/plain": [
       "ts\n",
       "2023-06-25 00:00:00    2.291156\n",
       "2023-06-25 08:00:00    4.475902\n",
       "2023-06-25 16:00:00    6.899548\n",
       "2023-06-26 00:00:00    5.278711\n",
       "2023-06-26 08:00:00    5.462480\n",
       "                         ...   \n",
       "2023-09-27 08:00:00   -3.963408\n",
       "2023-09-27 16:00:00    4.690086\n",
       "2023-09-28 00:00:00   -8.857544\n",
       "2023-09-28 08:00:00        -inf\n",
       "2023-09-28 16:00:00        -inf\n",
       "Length: 288, dtype: float64"
      ]
     },
     "execution_count": 2,
     "metadata": {},
     "output_type": "execute_result"
    }
   ],
   "source": [
    "base_anualizada_df"
   ]
  },
  {
   "cell_type": "code",
   "execution_count": null,
   "metadata": {},
   "outputs": [],
   "source": []
  }
 ],
 "metadata": {
  "kernelspec": {
   "display_name": "Python 3",
   "language": "python",
   "name": "python3"
  },
  "language_info": {
   "codemirror_mode": {
    "name": "ipython",
    "version": 3
   },
   "file_extension": ".py",
   "mimetype": "text/x-python",
   "name": "python",
   "nbconvert_exporter": "python",
   "pygments_lexer": "ipython3",
   "version": "3.7.4"
  }
 },
 "nbformat": 4,
 "nbformat_minor": 2
}
