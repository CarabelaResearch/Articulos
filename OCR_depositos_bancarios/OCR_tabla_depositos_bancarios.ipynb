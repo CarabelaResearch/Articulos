{
 "cells": [
  {
   "cell_type": "markdown",
   "metadata": {},
   "source": [
    "## Introducción\n",
    "\n",
    "En este Jupyter Notebook vamos a convertir la [tabla de depósitos bancarios de Monillo](https://drive.google.com/file/d/13n_JiVZ6pLB6B9jdFmoVlTsI9PFc38cq/view) en formato PNG a formato texto, para así poder procesar el texto a posteri con Python. Recordad que esta tabla de depósitos bancarios está actualizada a través de un [hilo de rankia](https://www.rankia.com/foros/depositos/temas/5470352-tabla-depositos-monillo).\n",
    "\n",
    "Los pasos a seguir son los siguientes:\n",
    "1. Descargar automáicamente la tabla de depósitos en formato JPG.\n",
    "2. Instalar el software [tesseract-OCR](https://github.com/tesseract-ocr/tesseract#installing-tesseract). OCR son las siglas de optical character recognition. \n",
    "3. Lanzar tesseract-OCR desde la línea de comandos usando python. Este paso producirá un archivo de texto.\n",
    "4. Procesar el archivo de texto para encontrar el interés más alto.\n",
    "5. Crear una alerta por correo electrónico.\n"
   ]
  },
  {
   "cell_type": "markdown",
   "metadata": {},
   "source": [
    "### 1. Descargar automáicamente la tabla de depósitos en formato JPG"
   ]
  },
  {
   "cell_type": "code",
   "execution_count": null,
   "metadata": {},
   "outputs": [],
   "source": []
  },
  {
   "cell_type": "markdown",
   "metadata": {},
   "source": [
    "### 2. Instalar el software tesseract-OCR\n",
    "\n",
    "Para el sistema operativo Windows tenéis las intrucciones en el siguiente [Github](https://github.com/UB-Mannheim/tesseract/wiki). Para otros sistemas y modos de instalación ver [tesseract-OCR](https://github.com/tesseract-ocr/tesseract#installing-tesseract).\n",
    "\n",
    "<span style=\"color:red\">Importante:</span> Durante el proceso de instalación habremos de eligir el paquete de idiomas español."
   ]
  },
  {
   "cell_type": "markdown",
   "metadata": {},
   "source": [
    "### 3. Lanzar tesseract-OCR desde la línea de comandos\n",
    "\n",
    "Hemos creado un BAT para lanzar tesseract (batch.bat). Los archivos bat son ejecutables de windows en la línea de comandos. Se pueden ejecutar haciendo doble click, creando una tarea con el programador de tareas o desde python con la librería subprocess y os.\n",
    "\n",
    "Tras lanzarse se creará (o sustituirá si ya existía) el archivo tabla_depositos_monillo.txt que contiene el los caracteres de la imagen. Puedes abrirlo con Notepadd o Kate para ver el resultado."
   ]
  },
  {
   "cell_type": "code",
   "execution_count": 16,
   "metadata": {},
   "outputs": [],
   "source": [
    "from subprocess import Popen\n",
    "p = Popen(\"batch.bat\", shell=False)\n",
    "stdout, stderr = p.communicate()\n",
    "\n",
    "#import os\n",
    "#os.systemp(\"batch.bat\")"
   ]
  },
  {
   "cell_type": "markdown",
   "metadata": {},
   "source": [
    "Podemos leer el contido del bat con python y mostrarlo por pantalla. El bat está compuesto por 3 líneas:\n",
    "1. Cambiar el color de los caracteres a ocre.\n",
    "2. Lanzar tesseract.exe. El programa recibe como parámetros la imagen (tabla_depositos_monillo.jpg), el nombre del archivo de resultados (tabla_depositos_monillo.txt) y el lenguage de los caracteres (-l spa).\n",
    "3. El comando pause detiene que se cierre la terminal (esto es útil cuando se usa el programador de tareas)."
   ]
  },
  {
   "cell_type": "code",
   "execution_count": 17,
   "metadata": {},
   "outputs": [
    {
     "name": "stdout",
     "output_type": "stream",
     "text": [
      "color 6 \n",
      "\n",
      "\"C:/Program Files/Tesseract-OCR/tesseract\" tabla_depositos_monillo.jpg tabla_depositos_monillo.txt -l spa\n",
      "\n",
      "pause\n"
     ]
    }
   ],
   "source": [
    "f = open(\"batch.bat\", \"r\")\n",
    "print(f.read())\n",
    "f.close()"
   ]
  },
  {
   "cell_type": "markdown",
   "metadata": {},
   "source": [
    "### 4. Procesar el archivo de texto para encontrar el interés más alto\n",
    "\n",
    "Lo primero será leer el archivo e inspeccionarlo. Los pasos que seguimos son:\n",
    "1. Separar en filas (usando el método readlines).\n",
    "2. Separar en columnas (usando el método split).\n",
    "3. Crear un dataframe. Para ello necesitamos el nombre de las columnas (primera línea del archivo).\n",
    "\n",
    "El primer punto es fácil de conseguir pero el punto número dos es difícil data la desutructuración de los datos. Esto imposibilita la recuperación de una tabla estructurada a partir de los datos"
   ]
  },
  {
   "cell_type": "code",
   "execution_count": 24,
   "metadata": {},
   "outputs": [
    {
     "data": {
      "text/plain": [
       "['Banco Cuentas 3m_| 4m | 6m | 9m la 18m | 2a | 25m 3a da | 5a | Mín | Cancelab | Revisión | Hora IBAN Renovable Cobro Intereses Transfer SEPA gratis / Otros Mantenimiento cuenta / Otros Asoc_|WP|FGD 0,8%|Banco\\n',\n",
       " 'Haitong Por Raisin 2,70 3,35 3,35 3,80. 3,95 10k No 25may ES14970001 Sí. No -5d Vencimiento d/360 Prueba de profesión Raisin España PT 1673 ¡Haitong\\n',\n",
       " 'Facto BFF 0% | 355 a En 320 aa ao 0 5k No re 15:00 | esis540001 | No. Desistimximp | 3meses | 90/3865 Sin límites S0mesesOcancel 2tit RebNO si w| 2% Facto BFF\\n',\n",
       " \"Renault No resuelve contratos 3,65 al cambiar condiciones 500€ No 8jun-22jun 16:00 | ESs15080001 Sí, ximp. Desis ximp | 3.6.9.12m15 | d/365 d/365 Sin límites. Recibe Trf no asoc. 24m0Ocancel 2tiiNO RcóNO Sí WP'| FR5844 Renault\\n\",\n",
       " 'WiZink 1%. +depo0,5% 10 días abrir dep 3,30 | 3,00 |¿SenZillo? 2,50 5k | Sí, penalT  4may-30junn 14:00 | ESO2297205 | Sí, Llamar con clave 3 meses d/365 d/365 Sin límites. Mín 1€ 2tit-15d RebNO No WWP| ES5270 WWiZink\\n',\n",
       " 'Finantia Calculad cancelac v10 350 3,50 3,15 13,75 No 29may - . Venc. 3, 6, 12m . ] ] Sí3 y er 1673 [Finantia\\n',\n",
       " 'BFS 0% https://acortar.link/oRjJ4S 3,00 | 3,05 3,20 | 3,20 50k | Sí, penalT Lunes 12:30 ES0220 Sí. Llaman para no a petición d/365 15k, día20k Sin-depo-30€6m 2tit RebNO sólo! [WP iones BFS\\n',\n",
       " 'Creciente 4a 3,24%= (| 2,90 3,15 3,30 | 3,60 |) Sí, pUltimo Anual gratis\\n',\n",
       " '\\n',\n",
       " 'EBN 1% 3-50k 3mNat 2,00 2,40. 2,75 |2,90* | 3,00* [3,15* 3,20* *Promo| 10k No 3may 13:45 | ES02110001 No 3m o venc 90/365 0-60k, día0-60k, intradía 2tit RebNO Sí3 WP| ES5270 EBN\\n',\n",
       " 'Mylnvestor | 0,30% -50k día-ap 2,00% laño 3,00 3,00 Depósitos sólo 1 titular 10k | Sí, penalT | tfeb-24may | 12:00 ES1544 Vencimiento 50k 2tit oficina. RcbSl Meter WWP| ES5270 Mylnvestor\\n',\n",
       " \"Pibank 1,51% día2 3,34 Reticentes desistir, desean canceles. 1€ |¡Sí, parc pT | 13jun-30jun | 17:00 ES0235 Sí, x dep. Desis x imp 3 meses d/365 /4 Día-50k. Inmed 500€/d 10d 6mOcancel 2tit-1a RCONO No WP'ES5270 Pibank\\n\",\n",
       " 'Targobank |2,53% >10k, hipoteca, ingresos, sino 8€ mes 2,75. 2,85 3,00 10k Sí, penal 4% 5jun ES0216 No, sólo nuevo dinero | 1m,3,6,9,12,venc Gratis hasta 6k/mes Inmed$ Balanceo3k. Bizum No |¡WP ES5270 |¡Targobank\\n',\n",
       " 'Orange 1,60% 1,80% con línea Orange o antes 19dic22. No inmediatas al extranjero. No 1mar-1jun | 13:00 | ES15680001 Trf intradía, Bizum d1 mes d/365 Inm 15k Em-def30k-SL Rcb15k/60k GmOcancel 2titiNO RebSI SSno No-reabrirse No P | FR5844 [Orange\\n',\n",
       " 'Evo Como mínimo hasta el 31jul24. Cuenta inteligente y no se entiende. No Sí 7jun 20:00 ES0239 Sí Ultimo día mes Día15k. Inmed. Intradía14h Balanceo4k. RcbSI 2tit No ¡WP ES5270 ¡Evo\\n',\n",
       " 'N26 Ahorro. 2,28% -50k  N26 Estándar antes. No 16may 18:00 | ES15632626 d1 mensual Inmed$. Bizum 2titNO No WP| DE3927 ¡[N26 Ahorro\\n',\n",
       " 'Sabadell 0%-30k BOYS] +200€ netos por nómina +Guenta de valores y de fondos|_No 2tabr-34jul_| 17:00 |  ES0081 Periodo d1-F mes d15 mes Día30k. Inmed$. Bizum 2tit RcbSI No__wP_| ES5270 [Sabadell\\n',\n",
       " 'Letra Bono E 3 y 299 5. 252 5 7d para rentar LS EN e 1k | Vendible Lt4,11jul | 2d sub ES9000 Sí y menor comisión | Vencimiento | d/360 d/365 0,15% comis mín0,90€ máx200€ 1-4tit Certif usuario. Letras sin reten Sacar | VW | ESestado | Letra Bono\\n',\n",
       " 'CIC Nord O 00% 22/9501 Comis 2, 1/mes: 23k-2,89% 15k-2,83 10k-2,75 5k-2,50 852-0% desde 3Omay23 10€ |¡Quincenas|  tago 16:00 | FR3002717216| %act: tfeb y lago | Valor 31dic  d/365 Día3k Saca 1-,16- Mete -15,-F Inmed$ Francia RebNO 2titNO No |WP. FR estado [CIC Nord O.\\n',\n",
       " 'Norwegian 2,50% Pueden denegar el alta por perfil. No es de la Unión Europea. No. Noruega 9jun 14:00 NO8276 - 31-dic AperturaApp. Sin retenc. Intradía FGD corona sueca Sacar wP SW4685 Norwegian\\n',\n",
       " 'Lea 2,34% preav4d Interés compuesto 5k | Sí Noruega 7jun Capitaliz mensual Cancelación d/365* Sin retenciones FGD corona noruega NO 1925 Lea\\n',\n",
       " 'Raisin 0% Devol.asoc5d | 3m 6m | 9m la 18m | 2a 30m 3a da 5a No Alemania 17:00?| DES50330200 |Renov gana 1 sem. Capitaliz interés. Otro plazo Prueba de domicilio 2titNO RecbNO Sacar |WYP. DE3927 Raisin\\n',\n",
       " 'Bai 3,55 13,85 3,49 3,19 2,87 | 10k | No Portugal 14jun PTO008 No. Sí+interes 28-5d Vencimiento d/365 Ret 28%, 15% crt resid+21RFI 1a-4s Prueba de profesión PT 1673 Bai\\n',\n",
       " 'LHV 3,45 13,85 3,55 | Compu 500€ | No Estonia 8jun EE0689 Sí. No -5d Vencimiento d/365 Sin retenciones EE268 LHV\\n',\n",
       " 'Sistema 10años 2,66% |IBAN por depósito 13,85 3,97 MACS asa 20k  Noltalia 6jun 1103158 Sí. No -5d Vencimiento d/365 Sin retenciones 112631 [Sistema\\n',\n",
       " 'Mano Sólo sale logueado 0,40 050 | 375 3.4 | 3: 120 1,29 | 128 | 20k | No Lituania Gjun LT50300 No. Sí 28-5d Vencimiento d/360 Ret 15%, 10% crt resid -4s LT 153 ¡Mano\\n',\n",
       " 'Fjord 3,60 357 | 354 3,29 | 3,28 | 3,32 1k No Lituania 14jun LT22500 Sí. No -5d Vencimiento d/365 Ret 15%, 10% crt resid -4s LT 153 [Ejord\\n',\n",
       " 'Progetto 2,52% preavis4d ¡IBAN impos | 3,30 3,55 3,83 3,90 10k | Noltalia 7jun 1T0501501600 SÍ. No -5d Vencimiento d/360 Sin retenciones DNI vigor. Mandar renovado 1T 2631 Progetto\\n',\n",
       " 'Klarna 2,35% flexible Nordea Finlan | 3,34 3,54 3,40 | Compu! 334 | 334 500€ | No Suecia 16jun FI182030 No. Sí 28-5d Vencimiento d/365 Sin retenciones FGD corona sueca Sw 4665 Klarna\\n',\n",
       " 'Coop 3,50 1,£3 1,96 5k No Estonia 12 jun EE0742 Sí. No -5d Vencimiento d/365* Sin retenciones EE 268 Coop\\n',\n",
       " 'Younited IBAN común a clientes 2,95 3,25 | Compu! 335 3145 | 350 2k No Francia 31mar FR10207 No Vencimiento d/365 Sin retenciones FR 5844 Younited\\n',\n",
       " \"Prv Leasing 2,115 2,90 3,15 3,19 5k No Italia 15may 1103417 Sí. No -5d Vencimiento d/365 Sin retenciones 112631 'Prv Leasing\\n\",\n",
       " 'BluOr 0,01 0,15 2,80 3,45 3,49 1€ No Letonia 25abr LVNnCBBR Sí. No -5d Vencimiento d/365 Ret 20%, 10% crt resid 1a-4s Lv 167 [BluOr\\n',\n",
       " 'JS T IBAN común a clientes 2,40 248 | 2,57 260 263 |260/| 275  10k No Chequia 10feb CZ8320 No. Sí 28-5d Vencimiento d/365 Ret 15%, 0% crt resid 90d-4s FGD corona checa CZ 1450 JET\\n',\n",
       " 'PrivatBanka Intereses sin retención obligan declarar en 99% 2,30 2,57 291 | 287 | 2,83 5k No Eslovaq SK8120 No. Sí 28-5d Vencimiento Ret 19%, 0% crt resid 1a-4s sk299 [PrivatiBanka\\n',\n",
       " 'CKvV 7-8-10años 3,50. 1,50 2,00 290 | Compu! 350 3150. 350 5k No Bélgica 15mar BE3850 No Vencimiento Ret 30%, 0% crt resid apertura BE 4645 CKV\\n',\n",
       " 'BACB 1,50 1,60 5k Sí Bulgaria BGmBGUS Sí. No -5d Vencimiento Rt 10-0 cnt resid, decl ingr 1a-5d FGD levas BG 755 [BACB\\n',\n",
       " 'Promos 0,01 0,50 0,50 10k No Italia 1103265 No Vencimiento Sin retenciones 112631 ¡Promos\\n',\n",
       " 'Alior 0,10 0,10 0,20 0,20 10k Sí Polonia PL109 No Vencimiento Ret 19%, 0% crt resid HD 1a-6s FGD eslotis PL 4067 Alior\\n',\n",
       " 'Siauliy 0,10 0,20 0,20 010. 0,110 5k No Lituania LT71899 No. Sí 28-5d Vencimiento Ret 15%, 10% crt resid -4s LT 153  [Siauliy\\n',\n",
       " 'Euram 0,01 0,01 0,05 | 0,10 | Compu 5k No Austria AT19340 No. Sí 28-5d Vencimiento Rt 25-0 cert resid -14d AT 433 ¡Euram\\n',\n",
       " 'Las promos de Raisin NO tienen retención y se consideran intereses bancarios. NO vendrán en los datos fiscales y hay que añadirlas manualmente al importe total de los intereses bancarios.\\n',\n",
       " 'Las rentas sin retención anulan la 1* regla para no declarar y se aplica la 2*? regla que obliga a declarar si los ingresos anuales TOTALES (trabajo + mobiliario + ...) son >1000€.\\n',\n",
       " 'Si se ve borroso, es culpa de Drive. Da doble clic para ampliar y se arregla.\\n',\n",
       " 'Exiliados por bajos intereses u otros motivos:\\n',\n",
       " 'Deutsche 0% 2,65 2,75 2,9 3,00 720 para Market DB 3k | Sí,2%-venc | Int no publ | 17:00 Sí. Solicitable el no | Vencimiento Trf gratis pero contrato$? 2tit RebSI Déb ta grato ilimit? Dia25k Inmed$ WP ES Deutsche\\n',\n",
       " 'TradeRepublic 2,00% -50k No es un banco. Cuentas colectivas. IBAN virtual. Orientado a valores. Citibank o Solaris Mensual Irlanda herencias propias Sí WP IEDE TradeRepub\\n',\n",
       " 'MoneyGO 0,50% No es un banco. Con recibo Yoigo domiciliado: 5% -5k y resto 1%. 17:00 Banco Cetelem Mensual Trf oper -5k. Inmed$ Antes tarjeta oblig. 2titNO RcbSl P ES  |[MoneyGO\\n',\n",
       " 'Cetelem 2,00% Planes de pago mensual. Premium 2,99€/mes rentaría desde 1.794€. Cetelem\\n',\n",
       " 'invesMe 2,40% No es un banco, es una cartera de ETF en Interactive Brokers. invesMe\\n',\n",
       " 'Self 2% -60k mes Plan amigo |Singular Bank 2,00 50k- 2,75 25k- Sí, penal 2,20 24may 13:00 ES1490 No Vencimiento | 4/365 d/365 Sin límites 2tit ReHbNO No WP| ES5270 ¡Self\\n',\n",
       " 'March 0% comis sin depósito, nuevos clientes 2,60 10k | Sí, penalT 8jun ES0061 No Vencimiento Inmed$ 2tit ES 5270 |March\\n',\n",
       " 'Openbank | 0,05 0,2nóm mes |1,76% taño, 5,12% nóm-5k  |1,75% año y 2,75% con ingresos No Sí, penal0,2%  27mar 16:30 ES0073  ¡Comis desc técnico Vencimiento Día10k. Inmed$-6k 4tit RcbSI No ¡WP| ES5270 ¡Openbank\\n',\n",
       " 'Bung 1,56% Savings ¡Algunos usuarios han tenido mala experiencia. Holanda. No 8feb ES1576 Mensual 2 retiradas instantáneas mes 2tit RebSl No P | NL3000 Bunq\\n',\n",
       " 'Caixa 11-19 Caixa\\n',\n",
       " 'Cajamar 0% 2,78 6k Cajamar\\n',\n",
       " '\\n',\n",
       " '. 0% B Investimento |3,50 hasta 15jun23 Llamar para 2* depo y clientes antiguos ; , No. Cuenta Invertir a 90/360 ratis-50kdía, >50kdía 30€, no navarros ni 2titNO Sin-mov-24m o Ingreso 100€antes3m PT 1673 |.\\n',\n",
       " 'BiG Global 1,00 7 2,35 A Poy E para Invertir Tk Sí, penalT 8may 16:00 | ES15690055 comis sin mov %a. Vencimiento 9 vascos cancel med No |WP miloñes BiG\\n',\n",
       " '\\n']"
      ]
     },
     "execution_count": 24,
     "metadata": {},
     "output_type": "execute_result"
    }
   ],
   "source": [
    "# Promero separamos en filas.\n",
    "f = open(\"tabla_depositos_monillo.txt\", \"r\", encoding='utf-8')\n",
    "txt_data = f.readlines()\n",
    "f.close()\n",
    "\n",
    "txt_data"
   ]
  },
  {
   "cell_type": "code",
   "execution_count": null,
   "metadata": {},
   "outputs": [],
   "source": []
  },
  {
   "cell_type": "code",
   "execution_count": null,
   "metadata": {},
   "outputs": [],
   "source": []
  },
  {
   "cell_type": "code",
   "execution_count": null,
   "metadata": {},
   "outputs": [],
   "source": []
  },
  {
   "cell_type": "markdown",
   "metadata": {},
   "source": [
    "### 5. Crear una alerta por correo electrónico\n"
   ]
  },
  {
   "cell_type": "code",
   "execution_count": null,
   "metadata": {},
   "outputs": [],
   "source": []
  }
 ],
 "metadata": {
  "kernelspec": {
   "display_name": "Python 3",
   "language": "python",
   "name": "python3"
  },
  "language_info": {
   "codemirror_mode": {
    "name": "ipython",
    "version": 3
   },
   "file_extension": ".py",
   "mimetype": "text/x-python",
   "name": "python",
   "nbconvert_exporter": "python",
   "pygments_lexer": "ipython3",
   "version": "3.7.4"
  }
 },
 "nbformat": 4,
 "nbformat_minor": 2
}
